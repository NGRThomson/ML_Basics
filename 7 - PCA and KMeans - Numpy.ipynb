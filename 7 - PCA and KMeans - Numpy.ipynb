{
 "cells": [
  {
   "cell_type": "markdown",
   "metadata": {},
   "source": [
    "This code is my assignment 7 for my machine learning module at UCL 2017/18. For this assignment I received 100% mark."
   ]
  },
  {
   "cell_type": "markdown",
   "metadata": {},
   "source": [
    "# Assignment 7: Unsupervised learning (PCA, K-Means) (1.5pts)\n",
    "\n",
    "## Introduction\n",
    "\n",
    "In this assignment, you will need to compute the Principal Component Analysis and K-Means algorithms and use them on a dataset. The dataset is the set of images from MNIST database corresponding to the handwritten digit $7$. Each image is $28px\\times 28px$. The set is divided in a training set and a testing set of respective size $3133$ and $3132$.\n",
    "\n",
    "As usual, the structure of the code is given to you and you need to fill the parts corresponding to the questions below.\n",
    "\n",
    "\n",
    "## Questions\n",
    "<b>Question 1 (25%)</b> (<a href='#pca'>Starts here</a>) Complete the functions `pca(.)` and `pca_project(.)`. For information, the function `np.linalg.eigh` compute the eigenvalues and eigenvectors of a symmetric matrix. It returns two arrays, the first one contains the eigenvalues in ascending order and the second one the corresponding eigenvector.<br/>\n",
    "<b>Question 2 (15%)</b> Using the decomposition learnt on the <b>training test</b>, compute the reconstruction error $E$ on the <b>testing test</b> defined by: \n",
    "\\begin{align}\n",
    "E(D) = \\frac{1}{N}\\sum_{n=1}^N \\|I_n - (\\mathbf{\\mu}+\\sum_{k=1}^D \\omega_k^n\\mathbf{u}_k) \\|_2,\n",
    "\\end{align}\n",
    "with N corresponding to the number of images in the TestSet, $I_n$ denoting the $n$-th image of the testing set, $\\mathbf{\\mu}$ is the mean digit learnt from the training set, $\\mathbf{u}_k$ is the eigenvector with the $k$-th largest eigenvalue, and $\\omega_k^n$ is the expansion coefficient of the $n$-th image on the $k$-th eigenvector. Finally, $\\|.\\|_2$ denotes the $L_2$ norm. Numpy has the method `np.linalg.norm(.)` that computes norms (check out the documentation for more infos).\n",
    "<br/>\n",
    "<b>Question 3 (5%)</b> Plot the evolution of the error $E$ for $D = 1,\\ldots,100$.\n",
    "\n",
    "<b>Question 4 (10%)</b> (<a href='#kmeans'>Starts here</a>) Complete the function `distortion(.)` which computes the distortion cost $F$ for a given clustering of the data:\n",
    "\\begin{align}\n",
    "F(m,c) = \\frac{1}{N}\\sum_{i=1}^N \\|x^i - c^{m(i)}\\|_2,\n",
    "\\end{align}\n",
    "where $N$ corresponds to the total number of images in the set and $m(i)$ denotes which cluster is assigned to the image $x^i$.<br/>\n",
    "<b>Question 5 (15%)</b> Complete the functions `kmeans(.)` and `assign_cluster(.)`, make sure that it computes the distortion after each update. Then use the function on your training set, the number of cluster $k = 2$. Check that the distortion decreases as the algorithm progresses.<br/>\n",
    "<b>Question 6 (15%)</b> In order to mitigate the local minima problem of K-Means, repeat the algorithm $10$ times, and keep the solution that yields the smallest distortion at the end. Show the resulting digit clusters.<br/>\n",
    "<b>Question 7.(10%)</b> Repeat the procedure of Question 6 for values of $k = 3,4,5,10,50,100$ (allow for ~10min). For each such value report the distortion cost of the training and testing data.<br/>\n",
    "\n",
    "<b>Question 8 (5%)</b> Compare the results from PCA to the results of K-means on the <b>test set</b> by plotting on the same graph the reconstruction error $E(D)$ for $D3,4,5,10,50,100$ and the distortion cost you just computed (remark that the two measures are simply L$_2$ norms thus the comparison is valid). To be clear, the first one measure the error in the reconstructed image from the projection on the components of PCA, the second measure the error between each image and the centroid of the cluster it is assigned to. Both correpond to the error made when approximating the original image to either its projection or its cluster's centroid.\n",
    "\n"
   ]
  },
  {
   "cell_type": "markdown",
   "metadata": {},
   "source": [
    "### Importing necessary packages"
   ]
  },
  {
   "cell_type": "code",
   "execution_count": 1,
   "metadata": {},
   "outputs": [],
   "source": [
    "import numpy as np\n",
    "import matplotlib.pyplot as plt\n",
    "from mnist import read, show\n",
    "\n",
    "%matplotlib inline"
   ]
  },
  {
   "cell_type": "markdown",
   "metadata": {},
   "source": [
    "### Importing the data to form training and test sets "
   ]
  },
  {
   "cell_type": "code",
   "execution_count": 2,
   "metadata": {},
   "outputs": [
    {
     "name": "stdout",
     "output_type": "stream",
     "text": [
      "(28, 28, 3133) (28, 28, 3132)\n"
     ]
    },
    {
     "data": {
      "image/png": "[encoded data removed]",
      "text/plain": [
       "<matplotlib.figure.Figure at 0x7fe538f7d400>"
      ]
     },
     "metadata": {},
     "output_type": "display_data"
    }
   ],
   "source": [
    "# Reads in the data from MNIST database\n",
    "data = read() \n",
    "\n",
    "# Retrieve the entries corresponding to the digit 7\n",
    "samples = []\n",
    "for sample in data:\n",
    "    if sample[0] == 7:\n",
    "        samples.append(sample[1].astype(float))\n",
    "        \n",
    "# Stack images in a tensor of size 28x28xnb_images\n",
    "samples = np.stack(samples,axis=2)\n",
    "\n",
    "# Defines training and testing set\n",
    "train_set = samples[:,:,:3133]\n",
    "test_set = samples[:,:,3133:]\n",
    "print(train_set.shape, test_set.shape)\n",
    "\n",
    "# Plot some images \n",
    "fig, axes = plt.subplots(1,3,figsize=(15,100))\n",
    "plt.rcParams['image.cmap'] = 'gray'\n",
    "axes[0].imshow(train_set[:,:,1])\n",
    "axes[1].imshow(train_set[:,:,100])\n",
    "axes[2].imshow(train_set[:,:,1000])\n",
    "axes[0].axis('off')\n",
    "axes[1].axis('off')\n",
    "axes[2].axis('off')\n",
    "\n",
    "# Transform the data for processing, i.e. unroll the 28x28 images in vectors of size 1x(28*28)\n",
    "X = np.reshape(train_set,(28*28,3133)).T\n",
    "Y = np.reshape(test_set,(28*28,3132)).T\n"
   ]
  },
  {
   "cell_type": "markdown",
   "metadata": {},
   "source": [
    "<a id='pca'></a>\n",
    "## Principal Component Analysis\n",
    "The data has now been initialised, everything is set to start on coding. \n",
    "\n",
    "<b>Question 1.</b> Complete the functions `pca(.)` and `pca_project(.)`."
   ]
  },
  {
   "cell_type": "code",
   "execution_count": 3,
   "metadata": {},
   "outputs": [],
   "source": [
    "def pca(X,n_components = None):\n",
    "    \n",
    "    # If no number of component is specified, the function keeps them all\n",
    "    if n_components is None:\n",
    "        n_components = X.shape[1]\n",
    "        \n",
    "    # Compute mean digit and shift the data\n",
    "    X_mean = np.mean(X, axis=0)\n",
    "    \n",
    "    # Compute covariance of the data\n",
    "    shift = X - X_mean\n",
    "\n",
    "    # Compute the eigenvector of the covariance matrix\n",
    "    X_cov = np.cov(shift,rowvar=False)\n",
    "\n",
    "    # Retrieve the eigenvectors to return\n",
    "    eig, eigv = np.linalg.eigh(X_cov)\n",
    "\n",
    "    # Returns the transformed data, the components, and the mean digit\n",
    "    components = eigv[:,-n_components:]\n",
    "    return X_mean, components\n",
    "\n",
    "def pca_project(Y,X_mean,components):\n",
    "    # Compute the projection of the input data on the selected components\n",
    "        \n",
    "    Y_shift = Y - X_mean    \n",
    "    # Compute the expansion coefficients of the data\n",
    "    reconstruction = Y_shift @ components @ components.T # keep_variable_name (or update below)\n",
    "    \n",
    "    \n",
    "    return X_mean + reconstruction "
   ]
  },
  {
   "cell_type": "code",
   "execution_count": 4,
   "metadata": {},
   "outputs": [
    {
     "data": {
      "text/plain": [
       "(-0.5, 27.5, 27.5, -0.5)"
      ]
     },
     "execution_count": 4,
     "metadata": {},
     "output_type": "execute_result"
    },
    {
     "data": {
      "image/png": "[encoded data removed]",
      "text/plain": [
       "<matplotlib.figure.Figure at 0x7fe53627f860>"
      ]
     },
     "metadata": {},
     "output_type": "display_data"
    },
    {
     "data": {
      "image/png": "[encoded data removed]",
      "text/plain": [
       "<matplotlib.figure.Figure at 0x7fe531c19eb8>"
      ]
     },
     "metadata": {},
     "output_type": "display_data"
    }
   ],
   "source": [
    "# This tests if your functions are correct, you should get the same output as we do\n",
    "X_mean, components = pca(X,n_components=None)\n",
    "\n",
    "# Reshapes the reconstructed data to have 28x28 pictures\n",
    "comp_ = np.reshape(components,(28,28,784))\n",
    "\n",
    "fig, axes = plt.subplots(1,3,figsize=(15,100))\n",
    "plt.rcParams['image.cmap'] = 'gray'\n",
    "axes[0].imshow(comp_[:,:,-1])\n",
    "axes[1].imshow(comp_[:,:,-2])\n",
    "axes[2].imshow(comp_[:,:,-3])\n",
    "axes[0].axis('off')\n",
    "axes[1].axis('off')\n",
    "axes[2].axis('off')\n",
    "\n",
    "X_projected = pca_project(X,X_mean,components)\n",
    "\n",
    "X_ = np.reshape(X_projected.T,(28,28,3133))\n",
    "fig, axes = plt.subplots(1,3,figsize=(15,100))\n",
    "plt.rcParams['image.cmap'] = 'gray'\n",
    "axes[0].imshow(train_set[:,:,0])\n",
    "axes[1].imshow(X_[:,:,0])\n",
    "axes[2].imshow(train_set[:,:,0]-X_[:,:,0]>10**(-12))\n",
    "axes[0].axis('off')\n",
    "axes[1].axis('off')\n",
    "axes[2].axis('off')"
   ]
  },
  {
   "cell_type": "markdown",
   "metadata": {},
   "source": [
    "#### Testing PCA \n",
    "You now have a (hopefully) working implementation of the Principal Component Analysis algorithm. Use it to fit your training set and observe the results on the testing set.\n",
    "\n",
    "<b>Question 2.</b> Use the function `pca(.)` to learn a decomposition on the <b>training test</b>, then compute the reconstruction error $E$ on the <b>testing test</b> defined by: \n",
    "\\begin{align}\n",
    "E(D) = \\frac{1}{N}\\sum_{n=1}^N \\|I_n - (\\mathbf{\\mu}+\\sum_{k=1}^D \\omega_k^n\\mathbf{u}_k) \\|_2,\n",
    "\\end{align}\n",
    "with $I_n$ denoting the $n$-th image of the testing set, $\\mathbf{\\mu}$ is the mean digit learnt from the training set, $\\mathbf{u}_k$ is the eigenvector with the $k$-th largest eigenvalue, and $\\omega_k^n$ is the expansion coefficient of the $n$-th image on the $k$-th eigenvector. Finally, $\\|.\\|_2$ denotes the $L_2$ norm.\n",
    "<br/>\n"
   ]
  },
  {
   "cell_type": "code",
   "execution_count": 5,
   "metadata": {
    "scrolled": true
   },
   "outputs": [],
   "source": [
    "max_n_components = 100 # Max number of components to keep\n",
    "\n",
    "xrange = range(1, max_n_components + 1)\n",
    "error = []\n",
    "X_mean, components = pca(X)\n",
    "\n",
    "# Compute the Error for n_components between 1 and max_n_components\n",
    "for i in xrange:\n",
    "    project = pca_project(Y,X_mean,components[:,-i:])\n",
    "    error.append(np.sum(np.apply_along_axis(np.linalg.norm, 1,(Y- project)))/X.shape[0])\n"
   ]
  },
  {
   "cell_type": "markdown",
   "metadata": {},
   "source": [
    "<b>Question 3.</b> Plot the evolution of the error $E$ for $D = 1,\\ldots,100$."
   ]
  },
  {
   "cell_type": "code",
   "execution_count": 6,
   "metadata": {},
   "outputs": [
    {
     "data": {
      "image/png": "[encoded data removed]",
      "text/plain": [
       "<matplotlib.figure.Figure at 0x7fe536289f28>"
      ]
     },
     "metadata": {},
     "output_type": "display_data"
    }
   ],
   "source": [
    "# Plot the error with respect to number of components\n",
    "\n",
    "fig = plt.figure()\n",
    "plt.plot(error)\n",
    "\n",
    "plt.xlabel('Number of components D')\n",
    "plt.ylabel('Error E(D)')\n",
    "plt.show()"
   ]
  },
  {
   "cell_type": "markdown",
   "metadata": {},
   "source": [
    "<a id='kmeans'></a>\n",
    "# K-Means\n",
    "In this section, you will complete the implementation of the k-means algorithm.\n",
    "\n",
    "<b>Question 4.</b>  Complete the function `distortion(.)` which computes the distortion cost $F$ for a given clustering of the data:\n",
    "\\begin{align}\n",
    "F(m,c) = \\frac{1}{N}\\sum_{i=1}^N \\|x^i - c^{m(i)}\\|_2,\n",
    "\\end{align}\n",
    "where $N$ corresponds to the total number of images in the set and $m(i)$ denotes which cluster is assigned to the image $x^i$.<br/>"
   ]
  },
  {
   "cell_type": "code",
   "execution_count": 7,
   "metadata": {},
   "outputs": [],
   "source": [
    "def distortion(X,clusters,centroids):\n",
    "    \n",
    "    n_cluster, n_variables = centroids.shape\n",
    "    distortion = 0\n",
    "    \n",
    "    for i in range(X.shape[0]):\n",
    "        distortion += np.linalg.norm(X[i] - centroids[int(clusters[i])])\n",
    "        \n",
    "    return distortion/X.shape[0]\n"
   ]
  },
  {
   "cell_type": "markdown",
   "metadata": {},
   "source": [
    "\n",
    "<b>Question 5.</b> Complete the functions `K-means` and `assign_centroid(.)`, make sure that it computes the distortion after each update. Then use the function on your training set, the number of cluster $k = 2$. Check that the distortion decreases as the algorithm progresses.<br/>"
   ]
  },
  {
   "cell_type": "code",
   "execution_count": 13,
   "metadata": {},
   "outputs": [],
   "source": [
    "def assign_centroid(centroids,X):\n",
    "    \n",
    "    n_observations, _ = X.shape\n",
    "    # Initialise clusters to -1\n",
    "    clusters = -1*np.ones((n_observations,))\n",
    "        \n",
    "    # Find closest centroid for each image\n",
    "    for i in range(X.shape[0]):\n",
    "        distance = np.apply_along_axis(np.linalg.norm, 1,(X[i] - centroids))\n",
    "        clusters[i] = np.argmin(distance)\n",
    "    return clusters\n",
    "\n",
    "def kmeans(X, n_clusters = 2, max_iter =1000, tol = 10**-10, verbose = False):\n",
    "    \n",
    "    n_observations, n_variables = X.shape\n",
    "    \n",
    "    # Randomly initialise the centroids using the multivariate gaussian computed from the data\n",
    "    X_mean = np.mean(X,axis=0)\n",
    "    X_cov = np.cov(X,rowvar=False)\n",
    "    centroids = np.random.multivariate_normal(X_mean,X_cov,(n_clusters,))\n",
    "    \n",
    "    n_iter = 0\n",
    "    distortion_scores = []\n",
    "    # Loop as long as the number of iterations is below max_iter and if the converging criteria has not be met\n",
    "    while (n_iter < max_iter):\n",
    "        n_iter += 1\n",
    "        # Step 1: assign points to nearest center\n",
    "        clusters = assign_centroid(centroids,X)\n",
    "        \n",
    "        # Step 2: compute distortion\n",
    "        dist = distortion(X,clusters,centroids)\n",
    "        distortion_scores.append(dist)\n",
    "        if verbose:\n",
    "            print(\"Iteration %s, distortion = %s\" % (n_iter,dist))\n",
    "              \n",
    "        # Step 3: compute new centroids from the clusters\n",
    "        new_centroids = np.zeros(centroids.shape)\n",
    "        for j in range(n_clusters):\n",
    "            \n",
    "            new_centroids[j] = np.nan_to_num(np.mean(X[clusters == j], axis =0).T)\n",
    "            \n",
    "        # Step 4: break the loop if difference between previous centroids and new ones is small enough\n",
    "        if np.linalg.norm(new_centroids-centroids)<tol:\n",
    "            if verbose:\n",
    "                print(\"Terminates with difference: %s\\n\" % np.linalg.norm(new_centroids-centroids))\n",
    "            break\n",
    "        else:\n",
    "            centroids = new_centroids\n",
    "    \n",
    "    return clusters, centroids, distortion_scores"
   ]
  },
  {
   "cell_type": "code",
   "execution_count": 14,
   "metadata": {},
   "outputs": [
    {
     "name": "stdout",
     "output_type": "stream",
     "text": [
      "Iteration 1, distortion = 2090.69363465\n",
      "Iteration 2, distortion = 1452.10800326\n",
      "Iteration 3, distortion = 1447.32343044\n",
      "Iteration 4, distortion = 1445.83126621\n",
      "Iteration 5, distortion = 1444.80753611\n",
      "Iteration 6, distortion = 1444.14051735\n",
      "Iteration 7, distortion = 1443.74098941\n",
      "Iteration 8, distortion = 1443.56091635\n",
      "Iteration 9, distortion = 1443.46335677\n",
      "Iteration 10, distortion = 1443.40290191\n",
      "Iteration 11, distortion = 1443.3651259\n",
      "Iteration 12, distortion = 1443.33449997\n",
      "Iteration 13, distortion = 1443.28489795\n",
      "Iteration 14, distortion = 1443.26795045\n",
      "Iteration 15, distortion = 1443.26274859\n",
      "Terminates with difference: 0.0\n",
      "\n"
     ]
    }
   ],
   "source": [
    "# If your implementation is correct you should get the same results as us here\n",
    "np.random.seed(11) # DO NOT CHANGE THIS LINE, it insures your random initialisation is identical to ours\n",
    "\n",
    "clusters, centroids, distortion_scores = kmeans(X,verbose=True)"
   ]
  },
  {
   "cell_type": "code",
   "execution_count": 15,
   "metadata": {},
   "outputs": [],
   "source": [
    "# Helper function to plot multiple images (non-graded)\n",
    "def plot_kmeans(centroids, n = 4):\n",
    "    \n",
    "    k = centroids.shape[0]\n",
    "    m = int(np.ceil(k/n))\n",
    "    fig, axes = plt.subplots(m,n,figsize=(n*5,m*5))\n",
    "    plt.rcParams['image.cmap'] = 'gray'\n",
    "    for c in range(k):\n",
    "        if m == 1:\n",
    "            axes[c].imshow(np.reshape(centroids[c,:],(28,28)))\n",
    "            axes[c].axis('off')\n",
    "        else:\n",
    "            i, j = int(c/n), int(c - i*n)\n",
    "            axes[i,j].imshow(np.reshape(centroids[c,:],(28,28)))\n",
    "            axes[i,j].axis('off')\n",
    "            \n",
    "    for c in range(k,m*n):\n",
    "        if m == 1:\n",
    "            axes[c].remove()\n",
    "            axes[c].axis('off')\n",
    "        else:\n",
    "            i, j = int(c/n), int(c - i*n)\n",
    "            axes[i,j].remove()\n",
    "            axes[i,j].axis('off')\n",
    "    "
   ]
  },
  {
   "cell_type": "markdown",
   "metadata": {},
   "source": [
    "#### Testing K-means\n",
    "\n",
    "<b>Question 6.</b> In order to mitigate the local minima problem of K-Means, repeat the algorithm $10$ times, and keep the solution that yields the smallest distortion at the end. Show the resulting digit clusters (centroids of your clusters) using the `plot_kmeans(.)` function given.<br/>\n"
   ]
  },
  {
   "cell_type": "code",
   "execution_count": 17,
   "metadata": {},
   "outputs": [
    {
     "name": "stdout",
     "output_type": "stream",
     "text": [
      "Run k=2: 1/1.. Iteration 1, distortion = 1909.01651172\n",
      "Iteration 2, distortion = 1496.54540845\n",
      "Iteration 3, distortion = 1464.60470561\n",
      "Iteration 4, distortion = 1453.90217407\n",
      "Iteration 5, distortion = 1449.87168931\n",
      "Iteration 6, distortion = 1447.94517752\n",
      "Iteration 7, distortion = 1446.83570264\n",
      "Iteration 8, distortion = 1445.74785697\n",
      "Iteration 9, distortion = 1444.96070624\n",
      "Iteration 10, distortion = 1444.32157594\n",
      "Iteration 11, distortion = 1444.02204301\n",
      "Iteration 12, distortion = 1443.76851774\n",
      "Iteration 13, distortion = 1443.61986634\n",
      "Iteration 14, distortion = 1443.52652248\n",
      "Iteration 15, distortion = 1443.45184567\n",
      "Iteration 16, distortion = 1443.42564939\n",
      "Iteration 17, distortion = 1443.38905497\n",
      "Iteration 18, distortion = 1443.3602504\n",
      "Iteration 19, distortion = 1443.32629327\n",
      "Iteration 20, distortion = 1443.28489795\n",
      "Iteration 21, distortion = 1443.26795045\n",
      "Iteration 22, distortion = 1443.26274859\n",
      "Terminates with difference: 0.0\n",
      "\n",
      "\n"
     ]
    },
    {
     "data": {
      "image/png": "[encoded data removed]",
      "text/plain": [
       "<matplotlib.figure.Figure at 0x7fe52de8da58>"
      ]
     },
     "metadata": {},
     "output_type": "display_data"
    }
   ],
   "source": [
    "def select_clustering(X,k=2,repeats=1):\n",
    "    # Returns clustering with lowest distortion across \"repeats\" number of runs\n",
    "    clustering = None\n",
    "    print(\"Run k=%s:\" % k,end=' ')\n",
    "    \n",
    "    min_distortion_score = np.inf\n",
    "    \n",
    "    for i in range(repeats):\n",
    "        print(\"%s/%s..\" % (i+1,repeats), end=' ')\n",
    "        np.random.seed(i) # Do not change this line, it insures you get the same random initialisation as us\n",
    "                \n",
    "        # Compute clusters and retrieve the one with lowest distortion\n",
    "        clusters, centroids, distortion_score = kmeans(X, verbose = True, n_clusters = k)\n",
    "        if distortion_score[i] < min_distortion_score:\n",
    "            min_distortion_score = distortion_score[i]\n",
    "            clustering = centroids\n",
    "            \n",
    "                        \n",
    "    print(\"\\n\",end='')\n",
    "    return clustering\n",
    "\n",
    "\n",
    "clusters = select_clustering(X)\n",
    "\n",
    "# Plot the centres of the clusters\n",
    "plot_kmeans(clusters)"
   ]
  },
  {
   "cell_type": "markdown",
   "metadata": {},
   "source": [
    "<b>Question 7.</b> Repeat the procedure of Question 6 for values of $k = 3,4,5,10,50,100$ (Allow for ~10min). Plot the evolution of the distortion cost of the training and testing data. Think of using the functions `select_clustering(.)`, `assign_centroid(.)`, and `distortion(.)` defined earlier."
   ]
  },
  {
   "cell_type": "code",
   "execution_count": 18,
   "metadata": {
    "scrolled": true
   },
   "outputs": [
    {
     "name": "stdout",
     "output_type": "stream",
     "text": [
      "Run k=2: 1/1.. Iteration 1, distortion = 1909.01651172\n",
      "Iteration 2, distortion = 1496.54540845\n",
      "Iteration 3, distortion = 1464.60470561\n",
      "Iteration 4, distortion = 1453.90217407\n",
      "Iteration 5, distortion = 1449.87168931\n",
      "Iteration 6, distortion = 1447.94517752\n",
      "Iteration 7, distortion = 1446.83570264\n",
      "Iteration 8, distortion = 1445.74785697\n",
      "Iteration 9, distortion = 1444.96070624\n",
      "Iteration 10, distortion = 1444.32157594\n",
      "Iteration 11, distortion = 1444.02204301\n",
      "Iteration 12, distortion = 1443.76851774\n",
      "Iteration 13, distortion = 1443.61986634\n",
      "Iteration 14, distortion = 1443.52652248\n",
      "Iteration 15, distortion = 1443.45184567\n",
      "Iteration 16, distortion = 1443.42564939\n",
      "Iteration 17, distortion = 1443.38905497\n",
      "Iteration 18, distortion = 1443.3602504\n",
      "Iteration 19, distortion = 1443.32629327\n",
      "Iteration 20, distortion = 1443.28489795\n",
      "Iteration 21, distortion = 1443.26795045\n",
      "Iteration 22, distortion = 1443.26274859\n",
      "Terminates with difference: 0.0\n",
      "\n",
      "\n",
      "Run k=3: 1/1.. Iteration 1, distortion = 1895.18237592\n",
      "Iteration 2, distortion = 1469.34774439\n",
      "Iteration 3, distortion = 1427.19357517\n",
      "Iteration 4, distortion = 1408.15971802\n",
      "Iteration 5, distortion = 1398.41772277\n",
      "Iteration 6, distortion = 1394.48802913\n",
      "Iteration 7, distortion = 1392.52728309\n",
      "Iteration 8, distortion = 1391.30952199\n",
      "Iteration 9, distortion = 1390.52794467\n",
      "Iteration 10, distortion = 1390.08997671\n",
      "Iteration 11, distortion = 1389.82713834\n",
      "Iteration 12, distortion = 1389.70212587\n",
      "Iteration 13, distortion = 1389.63578376\n",
      "Iteration 14, distortion = 1389.5573471\n",
      "Iteration 15, distortion = 1389.53113232\n",
      "Iteration 16, distortion = 1389.50601239\n",
      "Iteration 17, distortion = 1389.49462949\n",
      "Iteration 18, distortion = 1389.47914862\n",
      "Iteration 19, distortion = 1389.45753526\n",
      "Iteration 20, distortion = 1389.45400632\n",
      "Iteration 21, distortion = 1389.44934508\n",
      "Iteration 22, distortion = 1389.44746543\n",
      "Iteration 23, distortion = 1389.44153523\n",
      "Iteration 24, distortion = 1389.44166549\n",
      "Iteration 25, distortion = 1389.44361735\n",
      "Iteration 26, distortion = 1389.45498745\n",
      "Iteration 27, distortion = 1389.45766791\n",
      "Iteration 28, distortion = 1389.46110148\n",
      "Terminates with difference: 0.0\n",
      "\n",
      "\n",
      "Run k=4: 1/1.. Iteration 1, distortion = 1885.06936767\n",
      "Iteration 2, distortion = 1434.3525371\n",
      "Iteration 3, distortion = 1392.5131596\n",
      "Iteration 4, distortion = 1373.42456037\n",
      "Iteration 5, distortion = 1364.22418647\n",
      "Iteration 6, distortion = 1358.80848613\n",
      "Iteration 7, distortion = 1355.91668925\n",
      "Iteration 8, distortion = 1354.4122868\n",
      "Iteration 9, distortion = 1353.59781205\n",
      "Iteration 10, distortion = 1353.05949216\n",
      "Iteration 11, distortion = 1352.77835649\n",
      "Iteration 12, distortion = 1352.5504328\n",
      "Iteration 13, distortion = 1352.35661688\n",
      "Iteration 14, distortion = 1352.22143975\n",
      "Iteration 15, distortion = 1352.16075957\n",
      "Iteration 16, distortion = 1352.13481322\n",
      "Iteration 17, distortion = 1352.1069722\n",
      "Iteration 18, distortion = 1352.09138293\n",
      "Iteration 19, distortion = 1352.09039708\n",
      "Terminates with difference: 0.0\n",
      "\n",
      "\n",
      "Run k=5: 1/1.. Iteration 1, distortion = 1817.15467732\n",
      "Iteration 2, distortion = 1401.14879073\n",
      "Iteration 3, distortion = 1372.09182299\n",
      "Iteration 4, distortion = 1356.43080482\n",
      "Iteration 5, distortion = 1342.62569559\n",
      "Iteration 6, distortion = 1332.47059456\n",
      "Iteration 7, distortion = 1327.99204008\n",
      "Iteration 8, distortion = 1326.14005613\n",
      "Iteration 9, distortion = 1325.05333115\n",
      "Iteration 10, distortion = 1324.30750445\n",
      "Iteration 11, distortion = 1323.59316108\n",
      "Iteration 12, distortion = 1323.07954696\n",
      "Iteration 13, distortion = 1322.75747621\n",
      "Iteration 14, distortion = 1322.60517425\n",
      "Iteration 15, distortion = 1322.51807491\n",
      "Iteration 16, distortion = 1322.43046812\n",
      "Iteration 17, distortion = 1322.36777788\n",
      "Iteration 18, distortion = 1322.31639217\n",
      "Iteration 19, distortion = 1322.28953612\n",
      "Iteration 20, distortion = 1322.27872385\n",
      "Iteration 21, distortion = 1322.2771309\n",
      "Iteration 22, distortion = 1322.27696841\n",
      "Iteration 23, distortion = 1322.26703277\n",
      "Iteration 24, distortion = 1322.24602381\n",
      "Iteration 25, distortion = 1322.23411759\n",
      "Iteration 26, distortion = 1322.22472983\n",
      "Iteration 27, distortion = 1322.21862821\n",
      "Iteration 28, distortion = 1322.20734526\n",
      "Iteration 29, distortion = 1322.19815567\n",
      "Iteration 30, distortion = 1322.18333963\n",
      "Iteration 31, distortion = 1322.16713213\n",
      "Iteration 32, distortion = 1322.16133161\n",
      "Iteration 33, distortion = 1322.13644389\n",
      "Iteration 34, distortion = 1322.13052129\n",
      "Iteration 35, distortion = 1322.12093589\n",
      "Iteration 36, distortion = 1322.12104792\n",
      "Iteration 37, distortion = 1322.1172469\n",
      "Iteration 38, distortion = 1322.10431982\n",
      "Terminates with difference: 0.0\n",
      "\n",
      "\n",
      "Run k=10: 1/1.. Iteration 1, distortion = 1759.4046876\n",
      "Iteration 2, distortion = 1331.63843719\n",
      "Iteration 3, distortion = 1296.76364375\n",
      "Iteration 4, distortion = 1279.1194525\n",
      "Iteration 5, distortion = 1268.84558218\n",
      "Iteration 6, distortion = 1263.99141672\n",
      "Iteration 7, distortion = 1261.6086404\n",
      "Iteration 8, distortion = 1259.94450067\n",
      "Iteration 9, distortion = 1258.5203521\n",
      "Iteration 10, distortion = 1257.06578472\n",
      "Iteration 11, distortion = 1256.04695549\n",
      "Iteration 12, distortion = 1255.37385862\n",
      "Iteration 13, distortion = 1254.90042478\n",
      "Iteration 14, distortion = 1254.3957454\n",
      "Iteration 15, distortion = 1253.84644521\n",
      "Iteration 16, distortion = 1253.24412125\n",
      "Iteration 17, distortion = 1252.86315414\n",
      "Iteration 18, distortion = 1252.58348553\n",
      "Iteration 19, distortion = 1252.32380009\n",
      "Iteration 20, distortion = 1252.06371881\n",
      "Iteration 21, distortion = 1251.84223472\n",
      "Iteration 22, distortion = 1251.6253093\n",
      "Iteration 23, distortion = 1251.42559862\n",
      "Iteration 24, distortion = 1251.2711334\n",
      "Iteration 25, distortion = 1251.07221043\n",
      "Iteration 26, distortion = 1250.87341745\n",
      "Iteration 27, distortion = 1250.67137513\n",
      "Iteration 28, distortion = 1250.45546727\n",
      "Iteration 29, distortion = 1250.27879396\n",
      "Iteration 30, distortion = 1250.19602823\n",
      "Iteration 31, distortion = 1250.10558537\n",
      "Iteration 32, distortion = 1250.01019294\n",
      "Iteration 33, distortion = 1249.91846409\n",
      "Iteration 34, distortion = 1249.83405309\n",
      "Iteration 35, distortion = 1249.76145449\n",
      "Iteration 36, distortion = 1249.5981479\n",
      "Iteration 37, distortion = 1249.46954439\n",
      "Iteration 38, distortion = 1249.41055973\n",
      "Iteration 39, distortion = 1249.38225826\n",
      "Iteration 40, distortion = 1249.35685656\n",
      "Iteration 41, distortion = 1249.34694758\n",
      "Iteration 42, distortion = 1249.34459741\n",
      "Iteration 43, distortion = 1249.32869957\n",
      "Iteration 44, distortion = 1249.33131046\n",
      "Iteration 45, distortion = 1249.33172949\n",
      "Terminates with difference: 0.0\n",
      "\n",
      "\n",
      "Run k=50: 1/1.. Iteration 1, distortion = 1602.12109424\n"
     ]
    },
    {
     "name": "stderr",
     "output_type": "stream",
     "text": [
      "/home/nick/.local/lib/python3.5/site-packages/numpy/core/fromnumeric.py:2909: RuntimeWarning: Mean of empty slice.\n",
      "  out=out, **kwargs)\n",
      "/home/nick/.local/lib/python3.5/site-packages/numpy/core/_methods.py:73: RuntimeWarning: invalid value encountered in true_divide\n",
      "  ret, rcount, out=ret, casting='unsafe', subok=False)\n"
     ]
    },
    {
     "name": "stdout",
     "output_type": "stream",
     "text": [
      "Iteration 2, distortion = 1164.5034229\n",
      "Iteration 3, distortion = 1123.64256339\n",
      "Iteration 4, distortion = 1110.65337629\n",
      "Iteration 5, distortion = 1102.40128878\n",
      "Iteration 6, distortion = 1098.57843614\n",
      "Iteration 7, distortion = 1095.4982681\n",
      "Iteration 8, distortion = 1093.90426675\n",
      "Iteration 9, distortion = 1092.56561895\n",
      "Iteration 10, distortion = 1091.53900245\n",
      "Iteration 11, distortion = 1090.65145192\n",
      "Iteration 12, distortion = 1090.01421828\n",
      "Iteration 13, distortion = 1089.53226004\n",
      "Iteration 14, distortion = 1089.01734666\n",
      "Iteration 15, distortion = 1088.66292774\n",
      "Iteration 16, distortion = 1088.38589893\n",
      "Iteration 17, distortion = 1088.21026077\n",
      "Iteration 18, distortion = 1088.09338314\n",
      "Iteration 19, distortion = 1088.01420751\n",
      "Iteration 20, distortion = 1087.88964354\n",
      "Iteration 21, distortion = 1087.83462644\n",
      "Iteration 22, distortion = 1087.79151631\n",
      "Iteration 23, distortion = 1087.74660204\n",
      "Iteration 24, distortion = 1087.692644\n",
      "Iteration 25, distortion = 1087.65680837\n",
      "Iteration 26, distortion = 1087.62116106\n",
      "Iteration 27, distortion = 1087.60731934\n",
      "Iteration 28, distortion = 1087.60375553\n",
      "Terminates with difference: 0.0\n",
      "\n",
      "\n",
      "Run k=100: 1/1.. Iteration 1, distortion = 1548.61989741\n",
      "Iteration 2, distortion = 1103.95234596\n",
      "Iteration 3, distortion = 1061.66933319\n",
      "Iteration 4, distortion = 1048.29668447\n",
      "Iteration 5, distortion = 1041.40896863\n",
      "Iteration 6, distortion = 1037.44017234\n",
      "Iteration 7, distortion = 1034.91360357\n",
      "Iteration 8, distortion = 1033.27093074\n",
      "Iteration 9, distortion = 1032.06435867\n",
      "Iteration 10, distortion = 1031.1354432\n",
      "Iteration 11, distortion = 1030.50222363\n",
      "Iteration 12, distortion = 1030.03892744\n",
      "Iteration 13, distortion = 1029.7106123\n",
      "Iteration 14, distortion = 1029.44317406\n",
      "Iteration 15, distortion = 1029.23327467\n",
      "Iteration 16, distortion = 1029.03885192\n",
      "Iteration 17, distortion = 1028.81160872\n",
      "Iteration 18, distortion = 1028.69088698\n",
      "Iteration 19, distortion = 1028.46553661\n",
      "Iteration 20, distortion = 1028.34925904\n",
      "Iteration 21, distortion = 1028.26477081\n",
      "Iteration 22, distortion = 1028.17184022\n",
      "Iteration 23, distortion = 1028.12783003\n",
      "Iteration 24, distortion = 1028.07905108\n",
      "Iteration 25, distortion = 1028.03847709\n",
      "Iteration 26, distortion = 1028.00323215\n",
      "Iteration 27, distortion = 1027.97298115\n",
      "Iteration 28, distortion = 1027.95653248\n",
      "Iteration 29, distortion = 1027.94316402\n",
      "Terminates with difference: 0.0\n",
      "\n",
      "\n"
     ]
    }
   ],
   "source": [
    "train_distortions = []\n",
    "test_distortions = []\n",
    "\n",
    "ks = [2,3,4,5,10,50,100]\n",
    "for k in ks:\n",
    "    \n",
    "    \n",
    "    centroids = select_clustering(X, k=k, repeats = 10)\n",
    "    train = assign_centroid(centroids, X)\n",
    "    train_distortions.append(distortion(X, train, centroids))\n",
    "    test = assign_centroid(centroids, Y)\n",
    "    test_distortions.append(distortion(Y, test, centroids))\n",
    "    \n"
   ]
  },
  {
   "cell_type": "code",
   "execution_count": 26,
   "metadata": {},
   "outputs": [
    {
     "data": {
      "image/png": "[encoded data removed]",
      "text/plain": [
       "<matplotlib.figure.Figure at 0x7fe536213518>"
      ]
     },
     "metadata": {},
     "output_type": "display_data"
    }
   ],
   "source": [
    "# Plotting the evolution of distortion for train and test set\n",
    "fig = plt.figure()\n",
    "\n",
    "plt.plot(train_distortions,'r')\n",
    "plt.plot(test_distortions,'b')\n",
    "\n",
    "plt.xlabel(\"Number of clusters k\")\n",
    "plt.ylabel(\"Distortion\")\n",
    "plt.gca().set_xticklabels([0,2,3,4,5,10,50,100])\n",
    "plt.legend(['Train', 'Test'])\n",
    "plt.show()"
   ]
  },
  {
   "cell_type": "markdown",
   "metadata": {},
   "source": [
    "<b>Question 8.</b> Compare the results from PCA to the results of K-means on the <b>test set</b> by plotting on the same graph the reconstruction error $E(D)$ for $D3,4,5,10,50,100$ and the distortion cost you just computed (remark that the two measures are simply L$_2$ norms thus the comparison is valid). To be clear, the first one measure the error in the reconstructed image from the projection on the components of PCA, the second measure the error between each image and the centroid of the cluster it is assigned to. Both correpond to the error made when approximating the original image to either its projection or its cluster's centroid."
   ]
  },
  {
   "cell_type": "code",
   "execution_count": 20,
   "metadata": {},
   "outputs": [],
   "source": [
    "# No need to recompute kmeans here, just compute PCA for the corresponding values of k (similar to question 2/3)\n",
    "\n",
    "n_components = [2,3,4,5,10,50,100] # Max number of components to keep\n",
    "\n",
    "error = []\n",
    "\n",
    "# Compute the Error for n_components between 1 and max_n_components\n",
    "for i in n_components:\n",
    "    project = pca_project(Y,X_mean,components[:,-i:])\n",
    "    error.append(np.sum(np.apply_along_axis(np.linalg.norm, 1,(Y- project)))/X.shape[0])\n",
    "\n",
    "\n"
   ]
  },
  {
   "cell_type": "code",
   "execution_count": 25,
   "metadata": {},
   "outputs": [
    {
     "data": {
      "image/png": "[encoded data removed]",
      "text/plain": [
       "<matplotlib.figure.Figure at 0x7fe52df073c8>"
      ]
     },
     "metadata": {},
     "output_type": "display_data"
    }
   ],
   "source": [
    "# Plotting the comparison\n",
    "\n",
    "fig = plt.figure()\n",
    "\n",
    "plt.plot(error,'r')\n",
    "plt.plot(test_distortions,'b')\n",
    "\n",
    "plt.xlabel(\"Number of clusters/components (k/D)\")\n",
    "plt.ylabel(\"Approximation errors\")\n",
    "plt.gca().set_xticklabels([0,2,3,4,5,10,50,100])\n",
    "plt.legend(['PCA', 'K-means'])\n",
    "plt.show()"
   ]
  },
  {
   "cell_type": "markdown",
   "metadata": {},
   "source": [
    "The plot above shows that L2 Norms of the error(both of which are calculated differently). The PCA error is lower at all numbers of components than K-means, they both have similar gradients at lower components. We see a bigger change at higher nummbers of components, where K-means doesn't really improve between 50 and 100 clusters, while PCA continues to improve beyond 50 components. This is again shown in the now steeper gradient of PCA."
   ]
  }
 ],
 "metadata": {
  "kernelspec": {
   "display_name": "Python 3",
   "language": "python",
   "name": "python3"
  },
  "language_info": {
   "codemirror_mode": {
    "name": "ipython",
    "version": 3
   },
   "file_extension": ".py",
   "mimetype": "text/x-python",
   "name": "python",
   "nbconvert_exporter": "python",
   "pygments_lexer": "ipython3",
   "version": "3.6.3"
  },
  "varInspector": {
   "cols": {
    "lenName": 16,
    "lenType": 16,
    "lenVar": 40
   },
   "kernels_config": {
    "python": {
     "delete_cmd_postfix": "",
     "delete_cmd_prefix": "del ",
     "library": "var_list.py",
     "varRefreshCmd": "print(var_dic_list())"
    },
    "r": {
     "delete_cmd_postfix": ") ",
     "delete_cmd_prefix": "rm(",
     "library": "var_list.r",
     "varRefreshCmd": "cat(var_dic_list()) "
    }
   },
   "types_to_exclude": [
    "module",
    "function",
    "builtin_function_or_method",
    "instance",
    "_Feature"
   ],
   "window_display": false
  }
 },
 "nbformat": 4,
 "nbformat_minor": 2
}
